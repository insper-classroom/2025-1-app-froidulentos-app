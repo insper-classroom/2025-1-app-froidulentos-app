{
 "cells": [
  {
   "cell_type": "code",
   "execution_count": 1,
   "metadata": {},
   "outputs": [
    {
     "name": "stdout",
     "output_type": "stream",
     "text": [
      "Starting preprocessing for subset: 'test'\n",
      "Reading data from\n",
      "Concatenating dataframes...\n",
      "Converting date columns...\n",
      "Adding features...\n",
      "Loading formatted geocoded file...\n",
      "Removing duplicates...\n",
      "Number of duplicates: 0\n",
      "Cleaning df\n",
      "Preprocessing for subset 'test' done.\n"
     ]
    },
    {
     "data": {
      "text/plain": [
       "({'model_name': 'model',\n",
       "  'predictions': [0, 0, 0],\n",
       "  'probabilities': [[0.9999998807907104, 1.253136900913887e-07],\n",
       "   [0.9999996423721313, 3.3234803709092375e-07],\n",
       "   [0.9999998211860657, 1.943048317798457e-07]]},\n",
       " 200)"
      ]
     },
     "execution_count": 1,
     "metadata": {},
     "output_type": "execute_result"
    }
   ],
   "source": [
    "import pandas as pd\n",
    "import joblib\n",
    "from utils.preprocess import preprocess\n",
    "import pandas as pd\n",
    "from utils.preprocess import preprocess\n",
    "import joblib\n",
    "import os\n",
    "import pandas as pd\n",
    "from pathlib import Path\n",
    "from sklearn.model_selection import train_test_split\n",
    "import argparse\n",
    "import numpy as np # Added numpy import\n",
    "from datetime import datetime\n",
    "import reverse_geocoder as rg\n",
    "import numpy as np\n",
    "from feature_engine.creation import CyclicalFeatures\n",
    "import subprocess\n",
    "\n",
    "def predict():\n",
    "\n",
    "    \n",
    "    \n",
    "    model = joblib.load('models/model.pkl') \n",
    "    \n",
    "\n",
    "    payers = pd.read_feather('data/payers-v1.feather')\n",
    "    terminals = pd.read_feather('data/seller_terminals-v1.feather')\n",
    "    transactions = pd.read_feather('data/transactions_train-v1.feather')[-3:]\n",
    "\n",
    "    processed_df = preprocess(\n",
    "            new_payers=payers,\n",
    "            new_terminals=terminals,\n",
    "            new_transactions=transactions\n",
    "        )\n",
    "    \n",
    "    predictions = model.predict(processed_df)\n",
    "    probas = model.predict_proba(processed_df)\n",
    "\n",
    "    return {\n",
    "        \"model_name\": 'model',\n",
    "        \"predictions\": predictions.tolist(),\n",
    "        \"probabilities\": probas.tolist()\n",
    "    }, 200\n",
    "\n",
    "\n",
    "predict()"
   ]
  },
  {
   "cell_type": "code",
   "execution_count": 2,
   "metadata": {},
   "outputs": [
    {
     "data": {
      "application/vnd.microsoft.datawrangler.viewer.v0+json": {
       "columns": [
        {
         "name": "index",
         "rawType": "int64",
         "type": "integer"
        },
        {
         "name": "card_hash",
         "rawType": "int64",
         "type": "integer"
        },
        {
         "name": "card_bin",
         "rawType": "int64",
         "type": "integer"
        },
        {
         "name": "card_first_transaction",
         "rawType": "object",
         "type": "string"
        }
       ],
       "ref": "294095a3-3d40-407f-9500-49cef2917869",
       "rows": [
        [
         "9997",
         "30064013748967",
         "502003",
         "2018-06-30"
        ],
        [
         "9998",
         "4459688910961",
         "546566",
         "2018-06-30"
        ],
        [
         "9999",
         "60453669339",
         "180088",
         "2018-06-30"
        ]
       ],
       "shape": {
        "columns": 3,
        "rows": 3
       }
      },
      "text/html": [
       "<div>\n",
       "<style scoped>\n",
       "    .dataframe tbody tr th:only-of-type {\n",
       "        vertical-align: middle;\n",
       "    }\n",
       "\n",
       "    .dataframe tbody tr th {\n",
       "        vertical-align: top;\n",
       "    }\n",
       "\n",
       "    .dataframe thead th {\n",
       "        text-align: right;\n",
       "    }\n",
       "</style>\n",
       "<table border=\"1\" class=\"dataframe\">\n",
       "  <thead>\n",
       "    <tr style=\"text-align: right;\">\n",
       "      <th></th>\n",
       "      <th>card_hash</th>\n",
       "      <th>card_bin</th>\n",
       "      <th>card_first_transaction</th>\n",
       "    </tr>\n",
       "  </thead>\n",
       "  <tbody>\n",
       "    <tr>\n",
       "      <th>9997</th>\n",
       "      <td>30064013748967</td>\n",
       "      <td>502003</td>\n",
       "      <td>2018-06-30</td>\n",
       "    </tr>\n",
       "    <tr>\n",
       "      <th>9998</th>\n",
       "      <td>4459688910961</td>\n",
       "      <td>546566</td>\n",
       "      <td>2018-06-30</td>\n",
       "    </tr>\n",
       "    <tr>\n",
       "      <th>9999</th>\n",
       "      <td>60453669339</td>\n",
       "      <td>180088</td>\n",
       "      <td>2018-06-30</td>\n",
       "    </tr>\n",
       "  </tbody>\n",
       "</table>\n",
       "</div>"
      ],
      "text/plain": [
       "           card_hash  card_bin card_first_transaction\n",
       "9997  30064013748967    502003             2018-06-30\n",
       "9998   4459688910961    546566             2018-06-30\n",
       "9999     60453669339    180088             2018-06-30"
      ]
     },
     "execution_count": 2,
     "metadata": {},
     "output_type": "execute_result"
    }
   ],
   "source": [
    "c = pd.read_feather('data/payers-v1.feather')[-3:]\n",
    "c"
   ]
  },
  {
   "cell_type": "code",
   "execution_count": 3,
   "metadata": {},
   "outputs": [
    {
     "data": {
      "application/vnd.microsoft.datawrangler.viewer.v0+json": {
       "columns": [
        {
         "name": "index",
         "rawType": "int64",
         "type": "integer"
        },
        {
         "name": "terminal_id",
         "rawType": "int64",
         "type": "integer"
        },
        {
         "name": "latitude",
         "rawType": "float64",
         "type": "float"
        },
        {
         "name": "longitude",
         "rawType": "float64",
         "type": "float"
        },
        {
         "name": "terminal_operation_start",
         "rawType": "object",
         "type": "string"
        },
        {
         "name": "terminal_soft_descriptor",
         "rawType": "object",
         "type": "string"
        }
       ],
       "ref": "12213b4e-3160-41b1-81b2-3887fc2d2d17",
       "rows": [
        [
         "1997",
         "1997",
         "-15.809924259037317",
         "-47.82310300495743",
         "2018-05-22",
         "Bright Laundry 63"
        ],
        [
         "1998",
         "1998",
         "-23.554298520497458",
         "-46.60706513774405",
         "2018-05-23",
         "Green Living Home 130"
        ],
        [
         "1999",
         "1999",
         "-23.613439043144066",
         "-46.58163822592065",
         "2018-05-26",
         "Ifood McDonald's 63"
        ]
       ],
       "shape": {
        "columns": 5,
        "rows": 3
       }
      },
      "text/html": [
       "<div>\n",
       "<style scoped>\n",
       "    .dataframe tbody tr th:only-of-type {\n",
       "        vertical-align: middle;\n",
       "    }\n",
       "\n",
       "    .dataframe tbody tr th {\n",
       "        vertical-align: top;\n",
       "    }\n",
       "\n",
       "    .dataframe thead th {\n",
       "        text-align: right;\n",
       "    }\n",
       "</style>\n",
       "<table border=\"1\" class=\"dataframe\">\n",
       "  <thead>\n",
       "    <tr style=\"text-align: right;\">\n",
       "      <th></th>\n",
       "      <th>terminal_id</th>\n",
       "      <th>latitude</th>\n",
       "      <th>longitude</th>\n",
       "      <th>terminal_operation_start</th>\n",
       "      <th>terminal_soft_descriptor</th>\n",
       "    </tr>\n",
       "  </thead>\n",
       "  <tbody>\n",
       "    <tr>\n",
       "      <th>1997</th>\n",
       "      <td>1997</td>\n",
       "      <td>-15.809924</td>\n",
       "      <td>-47.823103</td>\n",
       "      <td>2018-05-22</td>\n",
       "      <td>Bright Laundry 63</td>\n",
       "    </tr>\n",
       "    <tr>\n",
       "      <th>1998</th>\n",
       "      <td>1998</td>\n",
       "      <td>-23.554299</td>\n",
       "      <td>-46.607065</td>\n",
       "      <td>2018-05-23</td>\n",
       "      <td>Green Living Home 130</td>\n",
       "    </tr>\n",
       "    <tr>\n",
       "      <th>1999</th>\n",
       "      <td>1999</td>\n",
       "      <td>-23.613439</td>\n",
       "      <td>-46.581638</td>\n",
       "      <td>2018-05-26</td>\n",
       "      <td>Ifood McDonald's 63</td>\n",
       "    </tr>\n",
       "  </tbody>\n",
       "</table>\n",
       "</div>"
      ],
      "text/plain": [
       "      terminal_id   latitude  longitude terminal_operation_start  \\\n",
       "1997         1997 -15.809924 -47.823103               2018-05-22   \n",
       "1998         1998 -23.554299 -46.607065               2018-05-23   \n",
       "1999         1999 -23.613439 -46.581638               2018-05-26   \n",
       "\n",
       "     terminal_soft_descriptor  \n",
       "1997        Bright Laundry 63  \n",
       "1998    Green Living Home 130  \n",
       "1999      Ifood McDonald's 63  "
      ]
     },
     "execution_count": 3,
     "metadata": {},
     "output_type": "execute_result"
    }
   ],
   "source": [
    "b = pd.read_feather('data/seller_terminals-v1.feather')[-3:]\n",
    "b"
   ]
  },
  {
   "cell_type": "code",
   "execution_count": 4,
   "metadata": {},
   "outputs": [
    {
     "data": {
      "application/vnd.microsoft.datawrangler.viewer.v0+json": {
       "columns": [
        {
         "name": "index",
         "rawType": "int64",
         "type": "integer"
        },
        {
         "name": "transaction_id",
         "rawType": "int64",
         "type": "integer"
        },
        {
         "name": "tx_datetime",
         "rawType": "datetime64[ns]",
         "type": "datetime"
        },
        {
         "name": "tx_date",
         "rawType": "datetime64[ns]",
         "type": "datetime"
        },
        {
         "name": "tx_time",
         "rawType": "object",
         "type": "string"
        },
        {
         "name": "tx_amount",
         "rawType": "float32",
         "type": "float"
        },
        {
         "name": "card_id",
         "rawType": "int64",
         "type": "integer"
        },
        {
         "name": "terminal_id",
         "rawType": "int64",
         "type": "integer"
        },
        {
         "name": "is_transactional_fraud",
         "rawType": "int64",
         "type": "integer"
        },
        {
         "name": "is_fraud",
         "rawType": "bool",
         "type": "boolean"
        },
        {
         "name": "tx_fraud_report_date",
         "rawType": "datetime64[ns]",
         "type": "datetime"
        }
       ],
       "ref": "1430fbda-fc2a-4a8a-8a98-291269502999",
       "rows": [
        [
         "4483953",
         "4483954",
         "2018-05-31 23:59:18",
         "2018-05-31 00:00:00",
         "23:59:18",
         "59.55",
         "4472226472833343268",
         "937",
         "0",
         "False",
         null
        ],
        [
         "4483954",
         "4483955",
         "2018-05-31 23:59:24",
         "2018-05-31 00:00:00",
         "23:59:24",
         "53.15",
         "4627244522757",
         "575",
         "0",
         "False",
         null
        ],
        [
         "4483955",
         "4483956",
         "2018-05-31 23:59:38",
         "2018-05-31 00:00:00",
         "23:59:38",
         "92.63",
         "4646866764691420",
         "206",
         "0",
         "False",
         null
        ]
       ],
       "shape": {
        "columns": 10,
        "rows": 3
       }
      },
      "text/html": [
       "<div>\n",
       "<style scoped>\n",
       "    .dataframe tbody tr th:only-of-type {\n",
       "        vertical-align: middle;\n",
       "    }\n",
       "\n",
       "    .dataframe tbody tr th {\n",
       "        vertical-align: top;\n",
       "    }\n",
       "\n",
       "    .dataframe thead th {\n",
       "        text-align: right;\n",
       "    }\n",
       "</style>\n",
       "<table border=\"1\" class=\"dataframe\">\n",
       "  <thead>\n",
       "    <tr style=\"text-align: right;\">\n",
       "      <th></th>\n",
       "      <th>transaction_id</th>\n",
       "      <th>tx_datetime</th>\n",
       "      <th>tx_date</th>\n",
       "      <th>tx_time</th>\n",
       "      <th>tx_amount</th>\n",
       "      <th>card_id</th>\n",
       "      <th>terminal_id</th>\n",
       "      <th>is_transactional_fraud</th>\n",
       "      <th>is_fraud</th>\n",
       "      <th>tx_fraud_report_date</th>\n",
       "    </tr>\n",
       "  </thead>\n",
       "  <tbody>\n",
       "    <tr>\n",
       "      <th>4483953</th>\n",
       "      <td>4483954</td>\n",
       "      <td>2018-05-31 23:59:18</td>\n",
       "      <td>2018-05-31</td>\n",
       "      <td>23:59:18</td>\n",
       "      <td>59.549999</td>\n",
       "      <td>4472226472833343268</td>\n",
       "      <td>937</td>\n",
       "      <td>0</td>\n",
       "      <td>False</td>\n",
       "      <td>NaT</td>\n",
       "    </tr>\n",
       "    <tr>\n",
       "      <th>4483954</th>\n",
       "      <td>4483955</td>\n",
       "      <td>2018-05-31 23:59:24</td>\n",
       "      <td>2018-05-31</td>\n",
       "      <td>23:59:24</td>\n",
       "      <td>53.150002</td>\n",
       "      <td>4627244522757</td>\n",
       "      <td>575</td>\n",
       "      <td>0</td>\n",
       "      <td>False</td>\n",
       "      <td>NaT</td>\n",
       "    </tr>\n",
       "    <tr>\n",
       "      <th>4483955</th>\n",
       "      <td>4483956</td>\n",
       "      <td>2018-05-31 23:59:38</td>\n",
       "      <td>2018-05-31</td>\n",
       "      <td>23:59:38</td>\n",
       "      <td>92.629997</td>\n",
       "      <td>4646866764691420</td>\n",
       "      <td>206</td>\n",
       "      <td>0</td>\n",
       "      <td>False</td>\n",
       "      <td>NaT</td>\n",
       "    </tr>\n",
       "  </tbody>\n",
       "</table>\n",
       "</div>"
      ],
      "text/plain": [
       "         transaction_id         tx_datetime    tx_date   tx_time  tx_amount  \\\n",
       "4483953         4483954 2018-05-31 23:59:18 2018-05-31  23:59:18  59.549999   \n",
       "4483954         4483955 2018-05-31 23:59:24 2018-05-31  23:59:24  53.150002   \n",
       "4483955         4483956 2018-05-31 23:59:38 2018-05-31  23:59:38  92.629997   \n",
       "\n",
       "                     card_id  terminal_id  is_transactional_fraud  is_fraud  \\\n",
       "4483953  4472226472833343268          937                       0     False   \n",
       "4483954        4627244522757          575                       0     False   \n",
       "4483955     4646866764691420          206                       0     False   \n",
       "\n",
       "        tx_fraud_report_date  \n",
       "4483953                  NaT  \n",
       "4483954                  NaT  \n",
       "4483955                  NaT  "
      ]
     },
     "execution_count": 4,
     "metadata": {},
     "output_type": "execute_result"
    }
   ],
   "source": [
    "a = pd.read_feather('data/transactions_train-v1.feather')[-3:]\n",
    "a"
   ]
  }
 ],
 "metadata": {
  "kernelspec": {
   "display_name": "venv",
   "language": "python",
   "name": "python3"
  },
  "language_info": {
   "codemirror_mode": {
    "name": "ipython",
    "version": 3
   },
   "file_extension": ".py",
   "mimetype": "text/x-python",
   "name": "python",
   "nbconvert_exporter": "python",
   "pygments_lexer": "ipython3",
   "version": "3.12.7"
  }
 },
 "nbformat": 4,
 "nbformat_minor": 2
}
