{
 "cells": [
  {
   "cell_type": "code",
   "execution_count": 1,
   "metadata": {},
   "outputs": [],
   "source": [
    "import pandas as pd\n",
    "\n",
    "df = pd.read_feather(\"data/tx_all-v1.feather\")\n",
    "\n",
    "max_month = df[\"tx_datetime\"].max().month\n",
    "\n",
    "df_test = df[df[\"tx_datetime\"].dt.month == max_month]\n",
    "\n",
    "df_val = df[df[\"tx_datetime\"].dt.month == max_month - 1]\n",
    "\n",
    "df_train = df[df[\"tx_datetime\"].dt.month < max_month - 1]"
   ]
  },
  {
   "cell_type": "markdown",
   "metadata": {},
   "source": [
    "## adding train, val, test datasets"
   ]
  },
  {
   "cell_type": "code",
   "execution_count": null,
   "metadata": {},
   "outputs": [],
   "source": [
    "df_train.to_feather(\"data/tx_train-v1.feather\")\n",
    "df_val.to_feather(\"data/tx_val-v1.feather\")\n",
    "df_test.to_feather(\"data/tx_test-v1.feather\")"
   ]
  },
  {
   "cell_type": "markdown",
   "metadata": {},
   "source": [
    "## adding train + val dataset"
   ]
  },
  {
   "cell_type": "code",
   "execution_count": 10,
   "metadata": {},
   "outputs": [],
   "source": [
    "df_train_val = df[df[\"tx_datetime\"].dt.month <= max_month - 1]\n",
    "df_train_val.to_feather(\"data/tx_train_val-v1.feather\")"
   ]
  }
 ],
 "metadata": {
  "kernelspec": {
   "display_name": "venv",
   "language": "python",
   "name": "python3"
  },
  "language_info": {
   "codemirror_mode": {
    "name": "ipython",
    "version": 3
   },
   "file_extension": ".py",
   "mimetype": "text/x-python",
   "name": "python",
   "nbconvert_exporter": "python",
   "pygments_lexer": "ipython3",
   "version": "3.12.7"
  }
 },
 "nbformat": 4,
 "nbformat_minor": 2
}
