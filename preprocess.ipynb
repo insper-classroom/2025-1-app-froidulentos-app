{
 "cells": [
  {
   "cell_type": "code",
   "execution_count": 5,
   "id": "b2af98ba",
   "metadata": {},
   "outputs": [],
   "source": [
    "# importações iniciais padrão FIFA 2025\n",
    "import pandas as pd\n",
    "import numpy as np\n",
    "import os\n",
    "from datetime import datetime\n",
    "\n",
    "DATA_DIR = \"./data\""
   ]
  },
  {
   "cell_type": "code",
   "execution_count": 7,
   "id": "544414a9",
   "metadata": {},
   "outputs": [],
   "source": [
    "payers = pd.read_csv(f\"{DATA_DIR}/payers-v1.csv\")\n",
    "terminals = pd.read_csv(f\"{DATA_DIR}/seller_terminals-v1.csv\")\n",
    "transactions = pd.read_csv(f\"{DATA_DIR}/transactions_train-v1.csv\")"
   ]
  },
  {
   "cell_type": "code",
   "execution_count": 9,
   "id": "f47d65da",
   "metadata": {},
   "outputs": [
    {
     "data": {
      "application/vnd.microsoft.datawrangler.viewer.v0+json": {
       "columns": [
        {
         "name": "index",
         "rawType": "int64",
         "type": "integer"
        },
        {
         "name": "card_hash",
         "rawType": "int64",
         "type": "integer"
        },
        {
         "name": "card_bin",
         "rawType": "int64",
         "type": "integer"
        },
        {
         "name": "card_first_transaction",
         "rawType": "object",
         "type": "string"
        }
       ],
       "conversionMethod": "pd.DataFrame",
       "ref": "d57672a5-97ad-42fa-bef1-01aa3842af4f",
       "rows": [
        [
         "0",
         "6579071715002803",
         "355137",
         "2016-03-20"
        ],
        [
         "1",
         "4814157718073",
         "546566",
         "2016-04-09"
        ],
        [
         "2",
         "4717474907925",
         "436231",
         "2016-04-17"
        ],
        [
         "3",
         "4747611558497388",
         "358161",
         "2016-05-08"
        ],
        [
         "4",
         "4689529748023353",
         "655698",
         "2016-06-03"
        ]
       ],
       "shape": {
        "columns": 3,
        "rows": 5
       }
      },
      "text/html": [
       "<div>\n",
       "<style scoped>\n",
       "    .dataframe tbody tr th:only-of-type {\n",
       "        vertical-align: middle;\n",
       "    }\n",
       "\n",
       "    .dataframe tbody tr th {\n",
       "        vertical-align: top;\n",
       "    }\n",
       "\n",
       "    .dataframe thead th {\n",
       "        text-align: right;\n",
       "    }\n",
       "</style>\n",
       "<table border=\"1\" class=\"dataframe\">\n",
       "  <thead>\n",
       "    <tr style=\"text-align: right;\">\n",
       "      <th></th>\n",
       "      <th>card_hash</th>\n",
       "      <th>card_bin</th>\n",
       "      <th>card_first_transaction</th>\n",
       "    </tr>\n",
       "  </thead>\n",
       "  <tbody>\n",
       "    <tr>\n",
       "      <th>0</th>\n",
       "      <td>6579071715002803</td>\n",
       "      <td>355137</td>\n",
       "      <td>2016-03-20</td>\n",
       "    </tr>\n",
       "    <tr>\n",
       "      <th>1</th>\n",
       "      <td>4814157718073</td>\n",
       "      <td>546566</td>\n",
       "      <td>2016-04-09</td>\n",
       "    </tr>\n",
       "    <tr>\n",
       "      <th>2</th>\n",
       "      <td>4717474907925</td>\n",
       "      <td>436231</td>\n",
       "      <td>2016-04-17</td>\n",
       "    </tr>\n",
       "    <tr>\n",
       "      <th>3</th>\n",
       "      <td>4747611558497388</td>\n",
       "      <td>358161</td>\n",
       "      <td>2016-05-08</td>\n",
       "    </tr>\n",
       "    <tr>\n",
       "      <th>4</th>\n",
       "      <td>4689529748023353</td>\n",
       "      <td>655698</td>\n",
       "      <td>2016-06-03</td>\n",
       "    </tr>\n",
       "  </tbody>\n",
       "</table>\n",
       "</div>"
      ],
      "text/plain": [
       "          card_hash  card_bin card_first_transaction\n",
       "0  6579071715002803    355137             2016-03-20\n",
       "1     4814157718073    546566             2016-04-09\n",
       "2     4717474907925    436231             2016-04-17\n",
       "3  4747611558497388    358161             2016-05-08\n",
       "4  4689529748023353    655698             2016-06-03"
      ]
     },
     "execution_count": 9,
     "metadata": {},
     "output_type": "execute_result"
    }
   ],
   "source": [
    "payers.head()"
   ]
  },
  {
   "cell_type": "code",
   "execution_count": 10,
   "id": "c321fc6c",
   "metadata": {},
   "outputs": [
    {
     "data": {
      "application/vnd.microsoft.datawrangler.viewer.v0+json": {
       "columns": [
        {
         "name": "index",
         "rawType": "int64",
         "type": "integer"
        },
        {
         "name": "terminal_id",
         "rawType": "int64",
         "type": "integer"
        },
        {
         "name": "latitude",
         "rawType": "float64",
         "type": "float"
        },
        {
         "name": "longitude",
         "rawType": "float64",
         "type": "float"
        },
        {
         "name": "terminal_operation_start",
         "rawType": "object",
         "type": "string"
        },
        {
         "name": "terminal_soft_descriptor",
         "rawType": "object",
         "type": "string"
        }
       ],
       "conversionMethod": "pd.DataFrame",
       "ref": "0494158e-7e95-499f-9e58-71b20d626719",
       "rows": [
        [
         "0",
         "0",
         "-23.6013283762113",
         "-46.70753573657423",
         "2016-05-06",
         "Urban Fiber 132"
        ],
        [
         "1",
         "1",
         "-23.505868042282177",
         "-46.66886031066758",
         "2016-06-10",
         "Express Rentals 22"
        ],
        [
         "2",
         "2",
         "-23.554971676872047",
         "-46.61884110190013",
         "2016-06-12",
         "Dream Home Decor 4"
        ],
        [
         "3",
         "3",
         "-15.851810143419613",
         "-47.94699689618314",
         "2016-06-13",
         "Urban Spa 108"
        ],
        [
         "4",
         "4",
         "-2.996112517770136",
         "-59.96331220503786",
         "2016-06-13",
         "Sportswear Hub 93"
        ]
       ],
       "shape": {
        "columns": 5,
        "rows": 5
       }
      },
      "text/html": [
       "<div>\n",
       "<style scoped>\n",
       "    .dataframe tbody tr th:only-of-type {\n",
       "        vertical-align: middle;\n",
       "    }\n",
       "\n",
       "    .dataframe tbody tr th {\n",
       "        vertical-align: top;\n",
       "    }\n",
       "\n",
       "    .dataframe thead th {\n",
       "        text-align: right;\n",
       "    }\n",
       "</style>\n",
       "<table border=\"1\" class=\"dataframe\">\n",
       "  <thead>\n",
       "    <tr style=\"text-align: right;\">\n",
       "      <th></th>\n",
       "      <th>terminal_id</th>\n",
       "      <th>latitude</th>\n",
       "      <th>longitude</th>\n",
       "      <th>terminal_operation_start</th>\n",
       "      <th>terminal_soft_descriptor</th>\n",
       "    </tr>\n",
       "  </thead>\n",
       "  <tbody>\n",
       "    <tr>\n",
       "      <th>0</th>\n",
       "      <td>0</td>\n",
       "      <td>-23.601328</td>\n",
       "      <td>-46.707536</td>\n",
       "      <td>2016-05-06</td>\n",
       "      <td>Urban Fiber 132</td>\n",
       "    </tr>\n",
       "    <tr>\n",
       "      <th>1</th>\n",
       "      <td>1</td>\n",
       "      <td>-23.505868</td>\n",
       "      <td>-46.668860</td>\n",
       "      <td>2016-06-10</td>\n",
       "      <td>Express Rentals 22</td>\n",
       "    </tr>\n",
       "    <tr>\n",
       "      <th>2</th>\n",
       "      <td>2</td>\n",
       "      <td>-23.554972</td>\n",
       "      <td>-46.618841</td>\n",
       "      <td>2016-06-12</td>\n",
       "      <td>Dream Home Decor 4</td>\n",
       "    </tr>\n",
       "    <tr>\n",
       "      <th>3</th>\n",
       "      <td>3</td>\n",
       "      <td>-15.851810</td>\n",
       "      <td>-47.946997</td>\n",
       "      <td>2016-06-13</td>\n",
       "      <td>Urban Spa 108</td>\n",
       "    </tr>\n",
       "    <tr>\n",
       "      <th>4</th>\n",
       "      <td>4</td>\n",
       "      <td>-2.996113</td>\n",
       "      <td>-59.963312</td>\n",
       "      <td>2016-06-13</td>\n",
       "      <td>Sportswear Hub 93</td>\n",
       "    </tr>\n",
       "  </tbody>\n",
       "</table>\n",
       "</div>"
      ],
      "text/plain": [
       "   terminal_id   latitude  longitude terminal_operation_start  \\\n",
       "0            0 -23.601328 -46.707536               2016-05-06   \n",
       "1            1 -23.505868 -46.668860               2016-06-10   \n",
       "2            2 -23.554972 -46.618841               2016-06-12   \n",
       "3            3 -15.851810 -47.946997               2016-06-13   \n",
       "4            4  -2.996113 -59.963312               2016-06-13   \n",
       "\n",
       "  terminal_soft_descriptor  \n",
       "0          Urban Fiber 132  \n",
       "1       Express Rentals 22  \n",
       "2       Dream Home Decor 4  \n",
       "3            Urban Spa 108  \n",
       "4        Sportswear Hub 93  "
      ]
     },
     "execution_count": 10,
     "metadata": {},
     "output_type": "execute_result"
    }
   ],
   "source": [
    "terminals.head()"
   ]
  },
  {
   "cell_type": "code",
   "execution_count": 11,
   "id": "cf72f419",
   "metadata": {},
   "outputs": [
    {
     "data": {
      "application/vnd.microsoft.datawrangler.viewer.v0+json": {
       "columns": [
        {
         "name": "index",
         "rawType": "int64",
         "type": "integer"
        },
        {
         "name": "transaction_id",
         "rawType": "int64",
         "type": "integer"
        },
        {
         "name": "tx_datetime",
         "rawType": "object",
         "type": "string"
        },
        {
         "name": "tx_date",
         "rawType": "object",
         "type": "string"
        },
        {
         "name": "tx_time",
         "rawType": "object",
         "type": "string"
        },
        {
         "name": "tx_amount",
         "rawType": "float64",
         "type": "float"
        },
        {
         "name": "card_id",
         "rawType": "int64",
         "type": "integer"
        },
        {
         "name": "terminal_id",
         "rawType": "int64",
         "type": "integer"
        },
        {
         "name": "is_transactional_fraud",
         "rawType": "int64",
         "type": "integer"
        },
        {
         "name": "is_fraud",
         "rawType": "bool",
         "type": "boolean"
        },
        {
         "name": "tx_fraud_report_date",
         "rawType": "object",
         "type": "unknown"
        }
       ],
       "conversionMethod": "pd.DataFrame",
       "ref": "10d7d979-31c6-4d54-a967-a1c438990338",
       "rows": [
        [
         "0",
         "1",
         "2018-01-01 00:00:10",
         "2018-01-01",
         "00:00:10",
         "117.12",
         "4983922282101",
         "1113",
         "0",
         "False",
         null
        ],
        [
         "1",
         "2",
         "2018-01-01 00:00:38",
         "2018-01-01",
         "00:00:38",
         "57.7",
         "38435765939628",
         "790",
         "0",
         "False",
         null
        ],
        [
         "2",
         "3",
         "2018-01-01 00:00:38",
         "2018-01-01",
         "00:00:38",
         "41.5",
         "4053973451359964262",
         "157",
         "0",
         "False",
         null
        ],
        [
         "3",
         "4",
         "2018-01-01 00:00:41",
         "2018-01-01",
         "00:00:41",
         "47.72",
         "370458387500772",
         "850",
         "0",
         "False",
         null
        ],
        [
         "4",
         "5",
         "2018-01-01 00:01:46",
         "2018-01-01",
         "00:01:46",
         "14.53",
         "180022431672084",
         "32",
         "0",
         "False",
         null
        ]
       ],
       "shape": {
        "columns": 10,
        "rows": 5
       }
      },
      "text/html": [
       "<div>\n",
       "<style scoped>\n",
       "    .dataframe tbody tr th:only-of-type {\n",
       "        vertical-align: middle;\n",
       "    }\n",
       "\n",
       "    .dataframe tbody tr th {\n",
       "        vertical-align: top;\n",
       "    }\n",
       "\n",
       "    .dataframe thead th {\n",
       "        text-align: right;\n",
       "    }\n",
       "</style>\n",
       "<table border=\"1\" class=\"dataframe\">\n",
       "  <thead>\n",
       "    <tr style=\"text-align: right;\">\n",
       "      <th></th>\n",
       "      <th>transaction_id</th>\n",
       "      <th>tx_datetime</th>\n",
       "      <th>tx_date</th>\n",
       "      <th>tx_time</th>\n",
       "      <th>tx_amount</th>\n",
       "      <th>card_id</th>\n",
       "      <th>terminal_id</th>\n",
       "      <th>is_transactional_fraud</th>\n",
       "      <th>is_fraud</th>\n",
       "      <th>tx_fraud_report_date</th>\n",
       "    </tr>\n",
       "  </thead>\n",
       "  <tbody>\n",
       "    <tr>\n",
       "      <th>0</th>\n",
       "      <td>1</td>\n",
       "      <td>2018-01-01 00:00:10</td>\n",
       "      <td>2018-01-01</td>\n",
       "      <td>00:00:10</td>\n",
       "      <td>117.12</td>\n",
       "      <td>4983922282101</td>\n",
       "      <td>1113</td>\n",
       "      <td>0</td>\n",
       "      <td>False</td>\n",
       "      <td>NaN</td>\n",
       "    </tr>\n",
       "    <tr>\n",
       "      <th>1</th>\n",
       "      <td>2</td>\n",
       "      <td>2018-01-01 00:00:38</td>\n",
       "      <td>2018-01-01</td>\n",
       "      <td>00:00:38</td>\n",
       "      <td>57.70</td>\n",
       "      <td>38435765939628</td>\n",
       "      <td>790</td>\n",
       "      <td>0</td>\n",
       "      <td>False</td>\n",
       "      <td>NaN</td>\n",
       "    </tr>\n",
       "    <tr>\n",
       "      <th>2</th>\n",
       "      <td>3</td>\n",
       "      <td>2018-01-01 00:00:38</td>\n",
       "      <td>2018-01-01</td>\n",
       "      <td>00:00:38</td>\n",
       "      <td>41.50</td>\n",
       "      <td>4053973451359964262</td>\n",
       "      <td>157</td>\n",
       "      <td>0</td>\n",
       "      <td>False</td>\n",
       "      <td>NaN</td>\n",
       "    </tr>\n",
       "    <tr>\n",
       "      <th>3</th>\n",
       "      <td>4</td>\n",
       "      <td>2018-01-01 00:00:41</td>\n",
       "      <td>2018-01-01</td>\n",
       "      <td>00:00:41</td>\n",
       "      <td>47.72</td>\n",
       "      <td>370458387500772</td>\n",
       "      <td>850</td>\n",
       "      <td>0</td>\n",
       "      <td>False</td>\n",
       "      <td>NaN</td>\n",
       "    </tr>\n",
       "    <tr>\n",
       "      <th>4</th>\n",
       "      <td>5</td>\n",
       "      <td>2018-01-01 00:01:46</td>\n",
       "      <td>2018-01-01</td>\n",
       "      <td>00:01:46</td>\n",
       "      <td>14.53</td>\n",
       "      <td>180022431672084</td>\n",
       "      <td>32</td>\n",
       "      <td>0</td>\n",
       "      <td>False</td>\n",
       "      <td>NaN</td>\n",
       "    </tr>\n",
       "  </tbody>\n",
       "</table>\n",
       "</div>"
      ],
      "text/plain": [
       "   transaction_id          tx_datetime     tx_date   tx_time  tx_amount  \\\n",
       "0               1  2018-01-01 00:00:10  2018-01-01  00:00:10     117.12   \n",
       "1               2  2018-01-01 00:00:38  2018-01-01  00:00:38      57.70   \n",
       "2               3  2018-01-01 00:00:38  2018-01-01  00:00:38      41.50   \n",
       "3               4  2018-01-01 00:00:41  2018-01-01  00:00:41      47.72   \n",
       "4               5  2018-01-01 00:01:46  2018-01-01  00:01:46      14.53   \n",
       "\n",
       "               card_id  terminal_id  is_transactional_fraud  is_fraud  \\\n",
       "0        4983922282101         1113                       0     False   \n",
       "1       38435765939628          790                       0     False   \n",
       "2  4053973451359964262          157                       0     False   \n",
       "3      370458387500772          850                       0     False   \n",
       "4      180022431672084           32                       0     False   \n",
       "\n",
       "  tx_fraud_report_date  \n",
       "0                  NaN  \n",
       "1                  NaN  \n",
       "2                  NaN  \n",
       "3                  NaN  \n",
       "4                  NaN  "
      ]
     },
     "execution_count": 11,
     "metadata": {},
     "output_type": "execute_result"
    }
   ],
   "source": [
    "transactions.head()"
   ]
  },
  {
   "cell_type": "code",
   "execution_count": 12,
   "id": "96aae78d",
   "metadata": {},
   "outputs": [],
   "source": [
    "# convertendo as datas\n",
    "transactions[\"tx_datetime\"] = pd.to_datetime(transactions[\"tx_datetime\"])\n",
    "transactions[\"tx_date\"] = pd.to_datetime(transactions[\"tx_date\"])\n",
    "payers[\"card_first_transaction\"] = pd.to_datetime(payers[\"card_first_transaction\"])\n",
    "terminals[\"terminal_operation_start\"] = pd.to_datetime(terminals[\"terminal_operation_start\"])"
   ]
  },
  {
   "cell_type": "code",
   "execution_count": 13,
   "id": "686dca9b",
   "metadata": {},
   "outputs": [
    {
     "name": "stdout",
     "output_type": "stream",
     "text": [
      "(4483956, 17)\n"
     ]
    },
    {
     "data": {
      "application/vnd.microsoft.datawrangler.viewer.v0+json": {
       "columns": [
        {
         "name": "index",
         "rawType": "int64",
         "type": "integer"
        },
        {
         "name": "transaction_id",
         "rawType": "int64",
         "type": "integer"
        },
        {
         "name": "tx_datetime",
         "rawType": "datetime64[ns]",
         "type": "datetime"
        },
        {
         "name": "tx_date",
         "rawType": "datetime64[ns]",
         "type": "datetime"
        },
        {
         "name": "tx_time",
         "rawType": "object",
         "type": "string"
        },
        {
         "name": "tx_amount",
         "rawType": "float64",
         "type": "float"
        },
        {
         "name": "card_id",
         "rawType": "int64",
         "type": "integer"
        },
        {
         "name": "terminal_id",
         "rawType": "int64",
         "type": "integer"
        },
        {
         "name": "is_transactional_fraud",
         "rawType": "int64",
         "type": "integer"
        },
        {
         "name": "is_fraud",
         "rawType": "bool",
         "type": "boolean"
        },
        {
         "name": "tx_fraud_report_date",
         "rawType": "object",
         "type": "unknown"
        },
        {
         "name": "card_hash",
         "rawType": "int64",
         "type": "integer"
        },
        {
         "name": "card_bin",
         "rawType": "int64",
         "type": "integer"
        },
        {
         "name": "card_first_transaction",
         "rawType": "datetime64[ns]",
         "type": "datetime"
        },
        {
         "name": "latitude",
         "rawType": "float64",
         "type": "float"
        },
        {
         "name": "longitude",
         "rawType": "float64",
         "type": "float"
        },
        {
         "name": "terminal_operation_start",
         "rawType": "datetime64[ns]",
         "type": "datetime"
        },
        {
         "name": "terminal_soft_descriptor",
         "rawType": "object",
         "type": "string"
        }
       ],
       "conversionMethod": "pd.DataFrame",
       "ref": "3669b372-12a9-4c7e-86ac-88a3f89e58be",
       "rows": [
        [
         "0",
         "1",
         "2018-01-01 00:00:10",
         "2018-01-01 00:00:00",
         "00:00:10",
         "117.12",
         "4983922282101",
         "1113",
         "0",
         "False",
         null,
         "4983922282101",
         "300262",
         "2017-10-03 00:00:00",
         "-15.7059107690387",
         "-47.873059322322405",
         "2017-11-12 00:00:00",
         "Ifood BBQ Hub 65"
        ],
        [
         "1",
         "2",
         "2018-01-01 00:00:38",
         "2018-01-01 00:00:00",
         "00:00:38",
         "57.7",
         "38435765939628",
         "790",
         "0",
         "False",
         null,
         "38435765939628",
         "213171",
         "2017-09-24 00:00:00",
         "-3.027344603421632",
         "-59.99175754278666",
         "2017-08-06 00:00:00",
         "Modern Sofa Store 92"
        ],
        [
         "2",
         "3",
         "2018-01-01 00:00:38",
         "2018-01-01 00:00:00",
         "00:00:38",
         "41.5",
         "4053973451359964262",
         "157",
         "0",
         "False",
         null,
         "4053973451359964262",
         "501837",
         "2017-12-02 00:00:00",
         "-23.579365791781385",
         "-46.56014099052683",
         "2017-01-09 00:00:00",
         "Elite Hair Salon 78"
        ],
        [
         "3",
         "4",
         "2018-01-01 00:00:41",
         "2018-01-01 00:00:00",
         "00:00:41",
         "47.72",
         "370458387500772",
         "850",
         "0",
         "False",
         null,
         "370458387500772",
         "358083",
         "2017-05-31 00:00:00",
         "-23.54892012229672",
         "-46.6133426838562",
         "2017-08-27 00:00:00",
         "Cyber World 128"
        ],
        [
         "4",
         "5",
         "2018-01-01 00:01:46",
         "2018-01-01 00:00:00",
         "00:01:46",
         "14.53",
         "180022431672084",
         "32",
         "0",
         "False",
         null,
         "180022431672084",
         "180088",
         "2017-10-30 00:00:00",
         "-15.792367731511929",
         "-47.88469827753861",
         "2016-08-29 00:00:00",
         "Live Music Hub 41"
        ]
       ],
       "shape": {
        "columns": 17,
        "rows": 5
       }
      },
      "text/html": [
       "<div>\n",
       "<style scoped>\n",
       "    .dataframe tbody tr th:only-of-type {\n",
       "        vertical-align: middle;\n",
       "    }\n",
       "\n",
       "    .dataframe tbody tr th {\n",
       "        vertical-align: top;\n",
       "    }\n",
       "\n",
       "    .dataframe thead th {\n",
       "        text-align: right;\n",
       "    }\n",
       "</style>\n",
       "<table border=\"1\" class=\"dataframe\">\n",
       "  <thead>\n",
       "    <tr style=\"text-align: right;\">\n",
       "      <th></th>\n",
       "      <th>transaction_id</th>\n",
       "      <th>tx_datetime</th>\n",
       "      <th>tx_date</th>\n",
       "      <th>tx_time</th>\n",
       "      <th>tx_amount</th>\n",
       "      <th>card_id</th>\n",
       "      <th>terminal_id</th>\n",
       "      <th>is_transactional_fraud</th>\n",
       "      <th>is_fraud</th>\n",
       "      <th>tx_fraud_report_date</th>\n",
       "      <th>card_hash</th>\n",
       "      <th>card_bin</th>\n",
       "      <th>card_first_transaction</th>\n",
       "      <th>latitude</th>\n",
       "      <th>longitude</th>\n",
       "      <th>terminal_operation_start</th>\n",
       "      <th>terminal_soft_descriptor</th>\n",
       "    </tr>\n",
       "  </thead>\n",
       "  <tbody>\n",
       "    <tr>\n",
       "      <th>0</th>\n",
       "      <td>1</td>\n",
       "      <td>2018-01-01 00:00:10</td>\n",
       "      <td>2018-01-01</td>\n",
       "      <td>00:00:10</td>\n",
       "      <td>117.12</td>\n",
       "      <td>4983922282101</td>\n",
       "      <td>1113</td>\n",
       "      <td>0</td>\n",
       "      <td>False</td>\n",
       "      <td>NaN</td>\n",
       "      <td>4983922282101</td>\n",
       "      <td>300262</td>\n",
       "      <td>2017-10-03</td>\n",
       "      <td>-15.705911</td>\n",
       "      <td>-47.873059</td>\n",
       "      <td>2017-11-12</td>\n",
       "      <td>Ifood BBQ Hub 65</td>\n",
       "    </tr>\n",
       "    <tr>\n",
       "      <th>1</th>\n",
       "      <td>2</td>\n",
       "      <td>2018-01-01 00:00:38</td>\n",
       "      <td>2018-01-01</td>\n",
       "      <td>00:00:38</td>\n",
       "      <td>57.70</td>\n",
       "      <td>38435765939628</td>\n",
       "      <td>790</td>\n",
       "      <td>0</td>\n",
       "      <td>False</td>\n",
       "      <td>NaN</td>\n",
       "      <td>38435765939628</td>\n",
       "      <td>213171</td>\n",
       "      <td>2017-09-24</td>\n",
       "      <td>-3.027345</td>\n",
       "      <td>-59.991758</td>\n",
       "      <td>2017-08-06</td>\n",
       "      <td>Modern Sofa Store 92</td>\n",
       "    </tr>\n",
       "    <tr>\n",
       "      <th>2</th>\n",
       "      <td>3</td>\n",
       "      <td>2018-01-01 00:00:38</td>\n",
       "      <td>2018-01-01</td>\n",
       "      <td>00:00:38</td>\n",
       "      <td>41.50</td>\n",
       "      <td>4053973451359964262</td>\n",
       "      <td>157</td>\n",
       "      <td>0</td>\n",
       "      <td>False</td>\n",
       "      <td>NaN</td>\n",
       "      <td>4053973451359964262</td>\n",
       "      <td>501837</td>\n",
       "      <td>2017-12-02</td>\n",
       "      <td>-23.579366</td>\n",
       "      <td>-46.560141</td>\n",
       "      <td>2017-01-09</td>\n",
       "      <td>Elite Hair Salon 78</td>\n",
       "    </tr>\n",
       "    <tr>\n",
       "      <th>3</th>\n",
       "      <td>4</td>\n",
       "      <td>2018-01-01 00:00:41</td>\n",
       "      <td>2018-01-01</td>\n",
       "      <td>00:00:41</td>\n",
       "      <td>47.72</td>\n",
       "      <td>370458387500772</td>\n",
       "      <td>850</td>\n",
       "      <td>0</td>\n",
       "      <td>False</td>\n",
       "      <td>NaN</td>\n",
       "      <td>370458387500772</td>\n",
       "      <td>358083</td>\n",
       "      <td>2017-05-31</td>\n",
       "      <td>-23.548920</td>\n",
       "      <td>-46.613343</td>\n",
       "      <td>2017-08-27</td>\n",
       "      <td>Cyber World 128</td>\n",
       "    </tr>\n",
       "    <tr>\n",
       "      <th>4</th>\n",
       "      <td>5</td>\n",
       "      <td>2018-01-01 00:01:46</td>\n",
       "      <td>2018-01-01</td>\n",
       "      <td>00:01:46</td>\n",
       "      <td>14.53</td>\n",
       "      <td>180022431672084</td>\n",
       "      <td>32</td>\n",
       "      <td>0</td>\n",
       "      <td>False</td>\n",
       "      <td>NaN</td>\n",
       "      <td>180022431672084</td>\n",
       "      <td>180088</td>\n",
       "      <td>2017-10-30</td>\n",
       "      <td>-15.792368</td>\n",
       "      <td>-47.884698</td>\n",
       "      <td>2016-08-29</td>\n",
       "      <td>Live Music Hub 41</td>\n",
       "    </tr>\n",
       "  </tbody>\n",
       "</table>\n",
       "</div>"
      ],
      "text/plain": [
       "   transaction_id         tx_datetime    tx_date   tx_time  tx_amount  \\\n",
       "0               1 2018-01-01 00:00:10 2018-01-01  00:00:10     117.12   \n",
       "1               2 2018-01-01 00:00:38 2018-01-01  00:00:38      57.70   \n",
       "2               3 2018-01-01 00:00:38 2018-01-01  00:00:38      41.50   \n",
       "3               4 2018-01-01 00:00:41 2018-01-01  00:00:41      47.72   \n",
       "4               5 2018-01-01 00:01:46 2018-01-01  00:01:46      14.53   \n",
       "\n",
       "               card_id  terminal_id  is_transactional_fraud  is_fraud  \\\n",
       "0        4983922282101         1113                       0     False   \n",
       "1       38435765939628          790                       0     False   \n",
       "2  4053973451359964262          157                       0     False   \n",
       "3      370458387500772          850                       0     False   \n",
       "4      180022431672084           32                       0     False   \n",
       "\n",
       "  tx_fraud_report_date            card_hash  card_bin card_first_transaction  \\\n",
       "0                  NaN        4983922282101    300262             2017-10-03   \n",
       "1                  NaN       38435765939628    213171             2017-09-24   \n",
       "2                  NaN  4053973451359964262    501837             2017-12-02   \n",
       "3                  NaN      370458387500772    358083             2017-05-31   \n",
       "4                  NaN      180022431672084    180088             2017-10-30   \n",
       "\n",
       "    latitude  longitude terminal_operation_start terminal_soft_descriptor  \n",
       "0 -15.705911 -47.873059               2017-11-12         Ifood BBQ Hub 65  \n",
       "1  -3.027345 -59.991758               2017-08-06     Modern Sofa Store 92  \n",
       "2 -23.579366 -46.560141               2017-01-09      Elite Hair Salon 78  \n",
       "3 -23.548920 -46.613343               2017-08-27          Cyber World 128  \n",
       "4 -15.792368 -47.884698               2016-08-29        Live Music Hub 41  "
      ]
     },
     "execution_count": 13,
     "metadata": {},
     "output_type": "execute_result"
    }
   ],
   "source": [
    "# juntando todos os df´s para ter um principal com todas as features que temos até agora\n",
    "\n",
    "df = transactions.merge(payers, left_on=\"card_id\", right_on=\"card_hash\", how=\"left\")\n",
    "df = df.merge(terminals, on=\"terminal_id\", how=\"left\")\n",
    "\n",
    "print(f\"{df.shape}\")\n",
    "df.head()"
   ]
  },
  {
   "cell_type": "code",
   "execution_count": null,
   "id": "fe6583b7",
   "metadata": {},
   "outputs": [],
   "source": []
  }
 ],
 "metadata": {
  "kernelspec": {
   "display_name": "venv",
   "language": "python",
   "name": "python3"
  },
  "language_info": {
   "codemirror_mode": {
    "name": "ipython",
    "version": 3
   },
   "file_extension": ".py",
   "mimetype": "text/x-python",
   "name": "python",
   "nbconvert_exporter": "python",
   "pygments_lexer": "ipython3",
   "version": "3.12.5"
  }
 },
 "nbformat": 4,
 "nbformat_minor": 5
}
